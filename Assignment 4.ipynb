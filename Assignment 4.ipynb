{
 "cells": [
  {
   "cell_type": "code",
   "execution_count": 34,
   "metadata": {},
   "outputs": [
    {
     "name": "stdout",
     "output_type": "stream",
     "text": [
      "{'first_name': 'Musfira', 'last_name': 'Zia', 'Age': '20', 'city': 'karachi'}\n"
     ]
    }
   ],
   "source": [
    "# Q1: Use a dictionary to store information about a person you know. \\\n",
    "personInfo={\n",
    "    'first_name':'Musfira',\n",
    "    'last_name':'Zia',\n",
    "    'Age':'20',\n",
    "    'city':'karachi'\n",
    "}\n",
    "print(personInfo)\n",
    "personInfo['qualification']=\"high academic level\"\n",
    "del personInfo['qualification']"
   ]
  },
  {
   "cell_type": "code",
   "execution_count": 20,
   "metadata": {},
   "outputs": [
    {
     "name": "stdout",
     "output_type": "stream",
     "text": [
      "City Name: karachi \n",
      "Information Country Name: Pakistan Population: 14.91 million karachi is the city of lights\n",
      "City Name: Lahore \n",
      "Information Country Name: Pakistan Population: 11.13 million Lahore remains the 42nd most heavily populated city in the world.\n",
      "City Name: Islamabad \n",
      "Information Country Name: Pakistan Population: 1.015 million It is the capital of Pakistan\n"
     ]
    }
   ],
   "source": [
    "'''Q2: Make a dictionary called cities. Use the names of three cities as keys in your dictionary. Create a\n",
    "dictionary of information about each city and include the country that the city is in, its approximate\n",
    "population, and one fact about that city. The keys for each city’s dictionary should be something like\n",
    "country, population, and fact. Print the name of each city and all of the information you have stored\n",
    "about it.'''\n",
    "cities={\n",
    "    'karachi':{\n",
    "        'country':'Pakistan',\n",
    "        'population':'14.91 million',\n",
    "        'fact':\"karachi is the city of lights\"\n",
    "    },\n",
    "     'Lahore':{\n",
    "        'country':'Pakistan',\n",
    "        'population':'11.13 million',\n",
    "        'fact':\"Lahore remains the 42nd most heavily populated city in the world.\"\n",
    "    },\n",
    "    'Islamabad':{\n",
    "        'country':'Pakistan',\n",
    "        'population':'1.015 million',\n",
    "        'fact':\"It is the capital of Pakistan\"\n",
    "    },\n",
    "    \n",
    "}\n",
    "for city in cities.keys():\n",
    "    print('City Name:',city,\"\\nInformation\",'Country Name:',cities[city]['country'],'Population:',cities[city]['population'],cities[city]['fact'])"
   ]
  },
  {
   "cell_type": "code",
   "execution_count": 24,
   "metadata": {},
   "outputs": [
    {
     "name": "stdout",
     "output_type": "stream",
     "text": [
      "Enter your Age:-12\n",
      "Your movie ticket is free :)\n"
     ]
    }
   ],
   "source": [
    "'''Q3:A movie theater charges different ticket prices depending on a person’s age. If a person is under the age\n",
    "of 3, the ticket is free; if they are between 3 and 12, the ticket is $10; and if they are over age 12, the\n",
    "ticket is $15. Write a loop in which you ask users their age, and then tell them the cost of their movie\n",
    "ticket.'''\n",
    "userAge=int(input(\"Enter your Age:\"))\n",
    "if userAge <=3:\n",
    "    print(\"Your movie ticket is free :)\")\n",
    "elif userAge >=3 or userAge <= 12:\n",
    "    print(\"Your movie ticket cost is $10\")\n",
    "elif userAge > 12:\n",
    "    print(\"Your movie ticket cost is $15\")\n",
    "else:\n",
    "    print(\"You enter incorrect age\")"
   ]
  },
  {
   "cell_type": "code",
   "execution_count": 25,
   "metadata": {},
   "outputs": [
    {
     "name": "stdout",
     "output_type": "stream",
     "text": [
      "One of my favourite book is  Holy Quran\n"
     ]
    }
   ],
   "source": [
    "'''Q4:Write a function called favorite_book() that accepts one parameter, title. The function should print a\n",
    "message, such as One of my favorite books is Alice in Wonderland. Call the function, making sure to\n",
    "include a book title as an argument in the function call.'''\n",
    "def favourite_book(title):\n",
    "    print('One of my favourite book is ',title)\n",
    "favourite_book('Holy Quran')"
   ]
  },
  {
   "cell_type": "code",
   "execution_count": 31,
   "metadata": {},
   "outputs": [
    {
     "name": "stdout",
     "output_type": "stream",
     "text": [
      "Guess the number...3\n",
      "your number is lesser than correct number\n",
      "Guess the number...5\n",
      "your number is lesser than correct number\n",
      "Guess the number...7\n",
      "your number is lesser than correct number\n"
     ]
    }
   ],
   "source": [
    "'''Write a program which randomly generate a number between 1 to 30 and ask the user in input field to\n",
    "guess the correct number. Give three chances to user guess the number and also give hint to user if\n",
    "hidden number is greater or smaller than the number he given to input field.'''\n",
    "import random\n",
    "\n",
    "correctnumber=random.randrange(1, 30, 1) \n",
    "i=0\n",
    "flag=True\n",
    "while(i<3 and flag):\n",
    "    number=int(input('Guess the number...'))\n",
    "    if number== correctnumber:\n",
    "        print(\"Congrats you guess the correct number\")\n",
    "        flag=False\n",
    "    elif number >correctnumber:\n",
    "        print(\"your number is greater than correct number\")\n",
    "    else:\n",
    "        print(\"your number is lesser than correct number\")\n",
    "    i=i+1\n"
   ]
  },
  {
   "cell_type": "code",
   "execution_count": null,
   "metadata": {},
   "outputs": [],
   "source": []
  }
 ],
 "metadata": {
  "kernelspec": {
   "display_name": "Python 3",
   "language": "python",
   "name": "python3"
  },
  "language_info": {
   "codemirror_mode": {
    "name": "ipython",
    "version": 3
   },
   "file_extension": ".py",
   "mimetype": "text/x-python",
   "name": "python",
   "nbconvert_exporter": "python",
   "pygments_lexer": "ipython3",
   "version": "3.7.3"
  }
 },
 "nbformat": 4,
 "nbformat_minor": 2
}
